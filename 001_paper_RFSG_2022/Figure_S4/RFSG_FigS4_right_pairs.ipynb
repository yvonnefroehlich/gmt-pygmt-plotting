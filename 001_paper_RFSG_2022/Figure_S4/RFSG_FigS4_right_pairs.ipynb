{
 "cells": [
  {
   "cell_type": "markdown",
   "id": "ace27506-8cca-4d25-ab54-0c3073913202",
   "metadata": {
    "tags": []
   },
   "source": [
    "### Ritter et al. (2022), J Seismol: **Fig. S4 right** - SKS-SKKS pairs in the lowermost mantle related to SWSMs at BFO\n",
    "\n",
    "-----------------------------------------------------------------------\n",
    "> This [Jupyter notebook](https://jupyter.org/) (supported by [JupyterLab](https://jupyter.org/)) reproduces **Fig. S4 right** of **_Ritter J. R. R., Fröhlich Y., Sanz Alonso Y. & Grund M. (2022)_**. Short-scale laterally varying SK(K)S shear wave splitting at BFO, Germany – implications for the determination of anisotropic structures. _Journal of Seismology_, 26, 1137-1156. https://doi.org/10.1007/s10950-022-10112-w. https://doi.org/10.1007/s10950-023-10136-w.\n",
    ">\n",
    "- **Author**: Yvonne Fröhlich\n",
    "  * ORCID: https://orcid.org/0000-0002-8566-0619\n",
    "  * GitHub: https://github.com/yvonnefroehlich/gmt-pygmt-plotting\n",
    "- **History**: PyGMT and GMT versions which must be installed on your system to run this Jupyter notebook\n",
    "  * Created 2022/July: [**PyGMT**](https://www.pygmt.org/latest/) [v0.7.0](https://www.pygmt.org/v0.7.0/) + [**GMT**](https://www.generic-mapping-tools.org/) [6.4.0](https://docs.generic-mapping-tools.org/6.4/)\n",
    "  * Updated 2024/04/07: [**PyGMT**](https://www.pygmt.org/latest/) [v0.11.0](https://www.pygmt.org/v0.11.0/) + [**GMT**](https://www.generic-mapping-tools.org/) [6.4.0](https://docs.generic-mapping-tools.org/6.4/)\n",
    "  * Updated 2025/08/28: [**PyGMT**](https://www.pygmt.org/latest/) [v0.16.0](https://www.pygmt.org/v0.16.0/) + [**GMT**](https://www.generic-mapping-tools.org/) [6.5.0](https://docs.generic-mapping-tools.org/6.5/)\n",
    "- **See also**:\n",
    "  * [Fig. S4 left](https://github.com/yvonnefroehlich/gmt-pygmt-plotting/blob/main/001_paper_RFSG_2022/Figure_S4/RFSG_FigS4_left_swsm.ipynb): Piercing points in the lowermost mantle related to SWSMs at BFO\n",
    "  * [Fig. 1](https://github.com/michaelgrund/GMT-plotting/blob/main/010_paper_RFSG2022/RFSG_2022_Fig_01.ipynb): Piercing points in the upper mantle related to SWSMs at BFO\n",
    "\n",
    "For bug reports, suggestions, or recommendation please open an issue or submit a pull request directly on [GitHub](https://github.com/yvonnefroehlich/gmt-pygmt-plotting).\n",
    "\n",
    "-----------------------------------------------------------------------"
   ]
  },
  {
   "cell_type": "markdown",
   "id": "2e44e5c4-0d50-461d-b053-30580e935a8a",
   "metadata": {},
   "source": [
    "Import the packages used in this Jupyter notebook."
   ]
  },
  {
   "cell_type": "code",
   "execution_count": null,
   "id": "cd1efac9-7625-43d4-be0b-f45ae1b9fda7",
   "metadata": {},
   "outputs": [],
   "source": [
    "import pygmt as gmt"
   ]
  },
  {
   "cell_type": "markdown",
   "id": "b2e3effa-b1c2-4dca-b17a-5752a155d067",
   "metadata": {},
   "source": [
    "---------------\n",
    "\n",
    "**(1) Set up**\n",
    "\n",
    "---------------"
   ]
  },
  {
   "cell_type": "code",
   "execution_count": null,
   "id": "9e3890be-1977-429c-8ad5-3cafd8c3afbb",
   "metadata": {},
   "outputs": [],
   "source": [
    "# -----------------------------------------------------------------------------\n",
    "# General stuff\n",
    "myfontsize = \"9p\"\n",
    "dpi_png = 360  # resolution in dpi of output figure for PNG format\n",
    "dpi_jn = 100  # resolution in dpi for display in this Jupyter notebook\n",
    "fname_fig_out = \"RFSG_FigS4_right_pairs\"  # name of output figure\n",
    "\n",
    "# -----------------------------------------------------------------------------\n",
    "# Coordinates of recording station Black Forest Observatory BFO\n",
    "lon_BFO = 8.330  # degrees East\n",
    "lat_BFO = 48.331  # degrees North\n",
    "\n",
    "# -----------------------------------------------------------------------------\n",
    "# Plate boundaries after Bird 2003\n",
    "file_platbound = \"plate_boundaries_Bird_2003.txt\"\n",
    "\n",
    "# -----------------------------------------------------------------------------\n",
    "# Colors\n",
    "color_land = \"gray90\"  # gray level -> light gray\n",
    "color_platbound = \"216.750/82.875/24.990\"  # -> dark orange\n",
    "color_station_symbol = \"255/215/0\"  # = \"gold\"\n",
    "color_station_label = \"162/20/47\"  # -> dark red\n",
    "color_null = \"white\"\n",
    "\n",
    "color_SKS_nodisc = \"gray50\"\n",
    "color_SKKS_nodisc = \"gray50\"\n",
    "color_SKS_disc = \"205/0/0\"  # -> red\n",
    "color_SKKS_disc = \"238/118/0\"  # -> orange\n",
    "\n",
    "color_line = \"gray50\"\n",
    "color_pp_K = color_SKS_nodisc\n",
    "color_pp_KK = color_SKKS_nodisc\n",
    "color_pp_N = color_null\n",
    "\n",
    "# -----------------------------------------------------------------------------\n",
    "# Piercing points\n",
    "marker_size_pp_nodisc = \"0.1c\"  # centimeters\n",
    "marker_size_pp_disc = \"0.1c\"\n",
    "line_width_pp_nodisc = \"0.2p\"  # points\n",
    "line_width_pp_disc = \"0.2p\"\n",
    "outline_width_pp = \"0.6p\"\n",
    "alpha_pp = \"@30\"  # transparency in percentage (0 equals opaque)\n",
    "incols_pp = [7, 8]  # order of input columns, zero-based indexing\n",
    "\n",
    "# -----------------------------------------------------------------------------\n",
    "# Box around map scale, legends, colorbars\n",
    "# +g fill color\n",
    "# +p outline thickness and color\n",
    "# +r rounded edges\n",
    "box_standard = \"+gwhite@30+p0.8p,black+r\""
   ]
  },
  {
   "cell_type": "markdown",
   "id": "2d9ee364-23ea-46fe-a350-802df39e28b8",
   "metadata": {},
   "source": [
    "Set map projection and region of study area:\n",
    "- [Lambert Conic Conformal Projection](https://www.pygmt.org/v0.7.0/projections/conic/conic_lambert.html): **L** `lon0/lat0/lat1/lat2/width`"
   ]
  },
  {
   "cell_type": "code",
   "execution_count": null,
   "id": "04f42553-6181-46ab-a447-e062fe8124d8",
   "metadata": {},
   "outputs": [],
   "source": [
    "# -----------------------------------------------------------------------------\n",
    "# Projection\n",
    "\n",
    "# Define projection center\n",
    "lon0_lamb = 7  # degrees East\n",
    "lat0_lamb = 48  # degrees North\n",
    "\n",
    "# Define standard parallels (only these two are distortion-free)\n",
    "lat1_lamb = 45  # degrees North\n",
    "lat2_lamb = 55\n",
    "\n",
    "# Define width of map\n",
    "width_lamb = \"15c\"  # 15 centimeters\n",
    "\n",
    "projection = f\"L{lon0_lamb}/{lat0_lamb}/{lat1_lamb}/{lat2_lamb}/{width_lamb}\"\n",
    "\n",
    "# -----------------------------------------------------------------------------\n",
    "# Region\n",
    "lonmin_lamb = -35  # degrees East\n",
    "lonmax_lamb = abs(lonmin_lamb) + 2 * lon0_lamb  # symmetric around lon0\n",
    "latmin_lamb = 25  # degrees North\n",
    "latmax_lamb = 70\n",
    "\n",
    "region = [lonmin_lamb, lonmax_lamb, latmin_lamb, latmax_lamb]"
   ]
  },
  {
   "cell_type": "markdown",
   "id": "aa6a6eb2-1093-4baf-a305-8a6ff6bbcc01",
   "metadata": {},
   "source": [
    "------------------------------\n",
    "\n",
    "**(2) Create geographic map**\n",
    "\n",
    "------------------------------\n",
    "\n",
    "Using the [`pygmt.Figure.show`](https://www.pygmt.org/v0.16.0/api/generated/pygmt.Figure.show.html) method you can let the figure be displayed directly inside your IDE (Integrated Development Environment) or outside of it by setting the `method` parameter to `\"external\"`.\n",
    "\n",
    "Create an instance or object of the [`pygmt.Figure`](https://www.pygmt.org/v0.16.0/api/generated/pygmt.Figure.html) class. In the following steps various plotting elements are added in a stacking fashion."
   ]
  },
  {
   "cell_type": "code",
   "execution_count": null,
   "id": "e70f679b-383b-496a-ac8e-ecf9a8f1b6ec",
   "metadata": {},
   "outputs": [],
   "source": [
    "fig = gmt.Figure()\n",
    "gmt.config(MAP_GRID_PEN=\"0.01p,gray30\")"
   ]
  },
  {
   "cell_type": "markdown",
   "id": "38caf67f-ee4a-48a7-bcd5-32be91dabd71",
   "metadata": {},
   "source": [
    "Generate a basic map using the [`pygmt.Figure.basemap`](https://www.pygmt.org/v0.16.0/api/generated/pygmt.Figure.basemap.html) and [`pygmt.Figure.coast`](https://www.pygmt.org/v0.16.0/api/generated/pygmt.Figure.coast.html) methods."
   ]
  },
  {
   "cell_type": "code",
   "execution_count": null,
   "id": "6de94d0f-ff9b-4542-be84-013ac80db5c6",
   "metadata": {},
   "outputs": [],
   "source": [
    "# a annotations, here every 10 degrees\n",
    "# g grid lines, here every 10 degrees\n",
    "# f frame / ticks, here every 5 degrees\n",
    "# wSnE annotations at South and East boundaries\n",
    "frame = [\"a10g10f5\", \"wSnE\"]\n",
    "\n",
    "fig.basemap(projection=projection, region=region, frame=0)\n",
    "fig.coast(\n",
    "    land=color_land,\n",
    "    resolution=\"h\",  # high\n",
    "    area_thresh=\"30000\",\n",
    "    shorelines=\"black\",\n",
    ")\n",
    "fig.basemap(frame=frame)\n",
    "\n",
    "fig.show(dpi=dpi_jn)"
   ]
  },
  {
   "cell_type": "markdown",
   "id": "ae32f8d8-9475-409a-88f4-02172f62c651",
   "metadata": {},
   "source": [
    "Plot the plate boundaries ([Bird 2003](https://doi.org/10.1029/2001GC000252)) using the [`pygmt.Figure.plot`](https://www.pygmt.org/v0.16.0/api/generated/pygmt.Figure.plot.html) method."
   ]
  },
  {
   "cell_type": "code",
   "execution_count": null,
   "id": "fc84ea8b-42a6-4d3b-a0fc-242af0d6a35f",
   "metadata": {},
   "outputs": [],
   "source": [
    "fig.plot(data=file_platbound, pen=f\"0.8p,{color_platbound}\")\n",
    "\n",
    "fig.show(dpi=dpi_jn)"
   ]
  },
  {
   "cell_type": "markdown",
   "id": "d63125e7-002d-44e5-b608-3f051f484cc0",
   "metadata": {},
   "source": [
    "Plot connection lines between related SKS and SKKS phases (SKS-SKKS pairs)."
   ]
  },
  {
   "cell_type": "code",
   "execution_count": null,
   "id": "4b38ad4a-da03-4596-93e2-fb30615e7625",
   "metadata": {},
   "outputs": [],
   "source": [
    "path_conect = \"data_FigS4_right_pairs/\"\n",
    "\n",
    "# DISCREPANT\n",
    "# SKKS split and SKS null\n",
    "fig.plot(\n",
    "    data=f\"{path_conect}BFO_disc_pp2700km_KKNN2KN_all.txt\",\n",
    "    pen=f\"{line_width_pp_disc},{color_line}\",\n",
    ")\n",
    "# SKKS null and SKKS split\n",
    "fig.plot(\n",
    "    data=f\"{path_conect}BFO_disc_pp2700km_KKN2KNN_all.txt\",\n",
    "    pen=f\"{line_width_pp_disc},{color_line}\",\n",
    ")\n",
    "\n",
    "# SAME\n",
    "# SKKS null and SKS null\n",
    "fig.plot(\n",
    "    data=f\"{path_conect}BFO_same_pp2700km_KKN2KN_all.txt\",\n",
    "    pen=f\"{line_width_pp_nodisc},{color_line}\",\n",
    ")\n",
    "# SKKS split and SKS split\n",
    "fig.plot(\n",
    "    data=f\"{path_conect}BFO_same_pp2700km_KKNN2KNN_all.txt\",\n",
    "    pen=f\"{line_width_pp_nodisc},{color_line}\",\n",
    ")\n",
    "\n",
    "fig.show(dpi=dpi_jn)"
   ]
  },
  {
   "cell_type": "markdown",
   "id": "651ee724-9339-4c4b-8d20-5431973b339b",
   "metadata": {},
   "source": [
    "Plot the piercing points in 2700 km depth (externally and previously calculated after the _iasp91_ Earth model ([Kennett & Engdahl 1991](https://doi.org/10.1111/j.1365-246X.1991.tb06724.x)))."
   ]
  },
  {
   "cell_type": "code",
   "execution_count": null,
   "id": "c3e4556d-d7d5-4d4f-a0e2-79378067a1c6",
   "metadata": {},
   "outputs": [],
   "source": [
    "data_same_pp_same = \"data_FigS4_right_pairs/BFO_same_pp2700km_\"\n",
    "data_same_K_N_pp = f\"{data_same_pp_same}K_sp_N_all.txt\"\n",
    "data_same_K_NN_pp = f\"{data_same_pp_same}K_sp_NN_all.txt\"\n",
    "data_same_KK_N_pp = f\"{data_same_pp_same}KK_sp_N_all.txt\"\n",
    "data_same_KK_NN_pp = f\"{data_same_pp_same}KK_sp_NN_all.txt\"\n",
    "\n",
    "data_disc_pp_same = \"data_FigS4_right_pairs/BFO_disc_pp2700km_\"\n",
    "data_disc_K_N_pp = f\"{data_disc_pp_same}K_sp_N_all.txt\"\n",
    "data_disc_K_NN_pp = f\"{data_disc_pp_same}K_sp_NN_all.txt\"\n",
    "data_disc_KK_N_pp = f\"{data_disc_pp_same}KK_sp_N_all.txt\"\n",
    "data_disc_KK_NN_pp = f\"{data_disc_pp_same}KK_sp_NN_all.txt\"\n",
    "\n",
    "\n",
    "# SAME both null\n",
    "# null, SKS\n",
    "fig.plot(\n",
    "    data=data_same_K_N_pp,\n",
    "    style=f\"C{marker_size_pp_nodisc}\",  # circle\n",
    "    fill=color_pp_N,  # before PyGMT v0.8.0 \"color\"\n",
    "    pen=f\"{outline_width_pp},{color_pp_K}\",  # outline thickness and color\n",
    "    incols=incols_pp,  # order of input columns, zero-based indexing\n",
    ")\n",
    "# null, SKKS\n",
    "fig.plot(\n",
    "    data=data_same_KK_N_pp,\n",
    "    style=f\"S{marker_size_pp_nodisc}\",  # square\n",
    "    fill=color_pp_N,  # before PyGMT v0.8.0 \"color\"\n",
    "    pen=f\"{outline_width_pp},{color_pp_KK}\",\n",
    "    incols=incols_pp,\n",
    ")\n",
    "\n",
    "# SAME both split\n",
    "# split, SKS\n",
    "fig.plot(\n",
    "    data=data_same_K_NN_pp,\n",
    "    style=f\"C{marker_size_pp_nodisc}\",\n",
    "    fill=color_pp_K,  # before PyGMT v0.8.0 \"color\"\n",
    "    pen=f\"{outline_width_pp},black\",\n",
    "    incols=incols_pp,\n",
    ")\n",
    "# split, SKKS\n",
    "fig.plot(\n",
    "    data=data_same_KK_NN_pp,\n",
    "    style=f\"S{marker_size_pp_nodisc}\",\n",
    "    fill=color_pp_KK,  # before PyGMT v0.8.0 \"color\"\n",
    "    pen=f\"{outline_width_pp},black\",\n",
    "    incols=incols_pp,\n",
    ")\n",
    "\n",
    "# DISCREPANT null\n",
    "# null, SKS\n",
    "fig.plot(\n",
    "    data=data_disc_K_N_pp,\n",
    "    style=f\"C{marker_size_pp_disc}\",\n",
    "    fill=color_pp_N,  # before PyGMT v0.8.0 \"color\"\n",
    "    pen=f\"{outline_width_pp},{color_SKS_disc}\",\n",
    "    incols=incols_pp,\n",
    ")\n",
    "# null, SKKS\n",
    "fig.plot(\n",
    "    data=data_disc_KK_N_pp,\n",
    "    style=f\"S{marker_size_pp_disc}\",\n",
    "    fill=color_pp_N,  # before PyGMT v0.8.0 \"color\"\n",
    "    pen=f\"{outline_width_pp},{color_SKKS_disc}\",\n",
    "    incols=incols_pp,\n",
    ")\n",
    "\n",
    "# DISCREPANT split\n",
    "# split, SKS\n",
    "fig.plot(\n",
    "    data=data_disc_K_NN_pp,\n",
    "    style=\"J\",  # orientated rectangle\n",
    "    fill=\"black\",  # before PyGMT v0.8.0 \"color\"\n",
    "    pen=\"0.05p,white\",\n",
    "    incols=\"7,8,9,10+s250,13+s150\",\n",
    ")\n",
    "# split, SKKS\n",
    "fig.plot(\n",
    "    data=data_disc_KK_NN_pp,\n",
    "    style=\"J\",\n",
    "    fill=\"black\",  # before PyGMT v0.8.0 \"color\"\n",
    "    pen=\"0.05p,white\",\n",
    "    incols=\"7,8,9,10+s250,13+s150\",\n",
    ")\n",
    "# split, SKS\n",
    "fig.plot(\n",
    "    data=data_disc_K_NN_pp,\n",
    "    style=f\"C{marker_size_pp_disc}\",  # circle\n",
    "    fill=color_SKS_disc,  # before PyGMT v0.8.0 \"color\"\n",
    "    pen=f\"{outline_width_pp},black\",\n",
    "    incols=incols_pp,\n",
    ")\n",
    "# split, SKKS\n",
    "fig.plot(\n",
    "    data=data_disc_KK_NN_pp,\n",
    "    style=f\"S{marker_size_pp_disc}\",\n",
    "    fill=color_SKKS_disc,  # before PyGMT v0.8.0 \"color\"\n",
    "    pen=f\"{outline_width_pp},black\",\n",
    "    incols=incols_pp,\n",
    ")\n",
    "\n",
    "fig.show(dpi=dpi_jn)"
   ]
  },
  {
   "cell_type": "markdown",
   "id": "1d063f79-2ca2-4f2f-9460-3b4fc9bf99de",
   "metadata": {},
   "source": [
    "Add symbol and station code of recording station BFO using the [`pygmt.Figure.plot`](https://www.pygmt.org/v0.16.0/api/generated/pygmt.Figure.plot.html) and [`pygmt.Figure.text`](https://www.pygmt.org/v0.16.0/api/generated/pygmt.Figure.text.html) methods."
   ]
  },
  {
   "cell_type": "code",
   "execution_count": null,
   "id": "9e37f1a8-4391-4d1a-a53c-fabeeb68398b",
   "metadata": {},
   "outputs": [],
   "source": [
    "# Add symbol\n",
    "fig.plot(\n",
    "    x=lon_BFO,\n",
    "    y=lat_BFO,\n",
    "    style=\"i0.3c\",  # inverse triangle\n",
    "    fill=color_station_symbol,  # before PyGMT v0.8.0 \"color\"\n",
    "    pen=\"1p,black\",\n",
    ")\n",
    "\n",
    "# Add station code\n",
    "fig.text(\n",
    "    x=lon_BFO,\n",
    "    y=49.020,\n",
    "    text=\"BFO\",\n",
    "    font=f\"9p,Helvetica-Bold,{color_station_label}\",\n",
    "    offset=\"0c/0.3c\",  # x/y\n",
    "    fill=\"white@30\",\n",
    "    clearance=\"+tO\",  # rounded edges of box\n",
    ")\n",
    "\n",
    "fig.show(dpi=dpi_jn)"
   ]
  },
  {
   "cell_type": "markdown",
   "id": "c717b262-c6e1-40de-a028-e3c02bd8860f",
   "metadata": {},
   "source": [
    "Add legend for symbols of SKS-SKKS pairs and length of delay time using the [`pygmt.Figure.legend`](https://www.pygmt.org/v0.16.0/api/generated/pygmt.Figure.legend.html) method."
   ]
  },
  {
   "cell_type": "code",
   "execution_count": null,
   "id": "8e6b6c1a-5495-4fcb-8da9-40cb17b32940",
   "metadata": {},
   "outputs": [],
   "source": [
    "# -----------------------------------------------------------------------------\n",
    "# Add legend for symbols of SKS-SKKS pairs\n",
    "\n",
    "leg_file_pp = \"legend_gmt_pairs.txt\"\n",
    "\n",
    "# J position, here Left Top\n",
    "# +j justify, here Left Top\n",
    "# +w width, here in centimeters\n",
    "# +o offset x/y, here in centimeters\n",
    "leg_pos_pp = \"JLT+jLT+w2.4c+o0c/-0.5c\"\n",
    "\n",
    "fig.legend(spec=leg_file_pp, position=leg_pos_pp, box=box_standard)\n",
    "\n",
    "# -----------------------------------------------------------------------------\n",
    "# Add legend for length of delay time\n",
    "\n",
    "leg_file_dt = \"legend_gmt_dt.txt\"\n",
    "\n",
    "# J position, here Middle Top\n",
    "# +j justify, here Left Top\n",
    "# +o offset x/y, here in centimeters\n",
    "leg_pos_dt = \"JMT+jLT+o-1.4c/0c\"\n",
    "\n",
    "fig.legend(spec=leg_file_dt, position=leg_pos_dt)\n",
    "\n",
    "fig.show(dpi=dpi_jn)"
   ]
  },
  {
   "cell_type": "markdown",
   "id": "1c479776-aafe-43da-aac0-8c773363f52c",
   "metadata": {},
   "source": [
    "Using the [`pygmt.Figure.savefig`](https://www.pygmt.org/v0.16.0/api/generated/pygmt.Figure.savefig.html) method you can save the final figure. Indicate the desired file format by adding the corresponding extension to the file name passed through the `fname` parameter. For PNG format you may also set the resolution via the `dpi` parameter."
   ]
  },
  {
   "cell_type": "code",
   "execution_count": null,
   "id": "a39c0f6a-92b4-43f2-9ffb-595ac2552fa5",
   "metadata": {},
   "outputs": [],
   "source": [
    "# Uncomment to save the figure in PNG, PDF, or EPS format\n",
    "# for ext in [\"png\"]: #, \"pdf\", \"eps\"]:\n",
    "#    fig.savefig(fname=f\"{fname_fig_out}.{ext}\", dpi=dpi_png)\n",
    "\n",
    "print(fname_fig_out)"
   ]
  }
 ],
 "metadata": {
  "kernelspec": {
   "display_name": "Python 3 (ipykernel)",
   "language": "python",
   "name": "python3"
  },
  "language_info": {
   "codemirror_mode": {
    "name": "ipython",
    "version": 3
   },
   "file_extension": ".py",
   "mimetype": "text/x-python",
   "name": "python",
   "nbconvert_exporter": "python",
   "pygments_lexer": "ipython3",
   "version": "3.12.3"
  }
 },
 "nbformat": 4,
 "nbformat_minor": 5
}
