{
 "cells": [
  {
   "cell_type": "markdown",
   "id": "ace27506-8cca-4d25-ab54-0c3073913202",
   "metadata": {
    "tags": []
   },
   "source": [
    "### Ritter et al. (2022), J Seismol: **Fig. S4 left** - Piercing points in the lowermost mantle related to SWSMs at BFO\n",
    "\n",
    "-----------------------------------------------------------------------\n",
    "> This [Jupyter notebook](https://jupyter.org/) (supported by [JupyterLab](https://jupyter.org/)) reproduces **Fig. S4 left** of **_Ritter J. R. R., Fröhlich Y., Sanz Alonso Y. & Grund M. (2022)_**. Short-scale laterally varying SK(K)S shear wave splitting at BFO, Germany – implications for the determination of anisotropic structures. _Journal of Seismology_, 26, 1137-1156. https://doi.org/10.1007/s10950-022-10112-w. https://doi.org/10.1007/s10950-023-10136-w.\n",
    "\n",
    "- **Author**: Yvonne Fröhlich\n",
    "  * ORCID: https://orcid.org/0000-0002-8566-0619\n",
    "  * GitHub: https://github.com/yvonnefroehlich/gmt-pygmt-plotting\n",
    "- **History**: PyGMT and GMT versions which must be installed on your system to run this Jupyter notebook\n",
    "  * Created 2022/July: [**PyGMT**](https://www.pygmt.org/latest/) [v0.7.0](https://www.pygmt.org/v0.7.0/) + [**GMT**](https://www.generic-mapping-tools.org/) [6.4.0](https://docs.generic-mapping-tools.org/6.4/)\n",
    "  * Updated 2024/04/07: [**PyGMT**](https://www.pygmt.org/latest/) [v0.11.0](https://www.pygmt.org/v0.11.0/) + [**GMT**](https://www.generic-mapping-tools.org/) [6.4.0](https://docs.generic-mapping-tools.org/6.4/)\n",
    "  * Updated 2025/08/28: [**PyGMT**](https://www.pygmt.org/latest/) [v0.16.0](https://www.pygmt.org/v0.16.0/) + [**GMT**](https://www.generic-mapping-tools.org/) [6.5.0](https://docs.generic-mapping-tools.org/6.5/)\n",
    "- **See also**:\n",
    "  * [Fig. S4 right](https://github.com/yvonnefroehlich/gmt-pygmt-plotting/blob/main/001_paper_RFSG_2022/Figure_S4/RFSG_FigS4_right_pairs.ipynb): SKS-SKKS pairs in the lowermost mantle related to SWSMs at BFO\n",
    "  * [Fig. 1](https://github.com/michaelgrund/GMT-plotting/blob/main/010_paper_RFSG2022/RFSG_2022_Fig_01.ipynb): Piercing points in the upper mantle related to SWSMs at BFO\n",
    "\n",
    "For bug reports, suggestions, or recommendation please open an issue or submit a pull request directly on [GitHub](https://github.com/yvonnefroehlich/gmt-pygmt-plotting).\n",
    "\n",
    "-----------------------------------------------------------------------"
   ]
  },
  {
   "cell_type": "markdown",
   "id": "02eee8df-21f6-4e85-94f0-b238dcbbbc2f",
   "metadata": {},
   "source": [
    "Import the packages used in this Jupyter notebook."
   ]
  },
  {
   "cell_type": "code",
   "execution_count": null,
   "id": "cd1efac9-7625-43d4-be0b-f45ae1b9fda7",
   "metadata": {},
   "outputs": [],
   "source": [
    "import os\n",
    "import pygmt as gmt"
   ]
  },
  {
   "cell_type": "markdown",
   "id": "1cd2a37d-a723-403e-94c5-958ed5a30878",
   "metadata": {},
   "source": [
    "---------------\n",
    "\n",
    "**(1) Set up**\n",
    "\n",
    "---------------"
   ]
  },
  {
   "cell_type": "code",
   "execution_count": null,
   "id": "213b4bbd-43a6-4d01-ab4d-8a434f5d184e",
   "metadata": {},
   "outputs": [],
   "source": [
    "# -----------------------------------------------------------------------------\n",
    "# General stuff\n",
    "myfontsize = \"9p\"\n",
    "dpi_png = 360  # resolution in dpi of output figure for PNG format\n",
    "dpi_jn = 100  # resolution in dpi for display in this Jupyter notebook\n",
    "fname_fig_out = \"RFSG_FigS4_left_swsm\"  # name of output figure\n",
    "\n",
    "# -----------------------------------------------------------------------------\n",
    "# Coordinates of recording station Black Forest Observatory BFO\n",
    "lon_BFO = 8.330  # degrees East\n",
    "lat_BFO = 48.331  # degrees North\n",
    "\n",
    "# -----------------------------------------------------------------------------\n",
    "# Plate boundaries after Bird 2003\n",
    "file_platbound = \"plate_boundaries_Bird_2003.txt\"\n",
    "\n",
    "# -----------------------------------------------------------------------------\n",
    "# Colors\n",
    "color_land = \"gray90\"  # gray level -> light gray\n",
    "color_platbound = \"216.750/82.875/24.990\"  # -> dark orange\n",
    "color_station_symbol = \"255/215/0\"  # = \"gold\"\n",
    "color_station_label = \"162/20/47\"  # -> dark red\n",
    "color_null = \"white\"\n",
    "\n",
    "# -----------------------------------------------------------------------------\n",
    "# Piercing points\n",
    "marker_size_pp = \"0.18c\"  # centimeters\n",
    "outline_width_pp = \"0.8p\"  # points\n",
    "alpha_pp = \"@30\"  # transparency in percentage (0 equals opaque)\n",
    "\n",
    "# -----------------------------------------------------------------------------\n",
    "# Ray paths\n",
    "alpha_ray = \"@97\"\n",
    "color_ray_K_N = \"black\"\n",
    "color_ray_K_NN = \"black\"\n",
    "color_ray_KK_N = \"black\"\n",
    "color_ray_KK_NN = \"black\"\n",
    "incols_ray = [1, 0]  # order of input columns, zero-based indexing\n",
    "\n",
    "# -----------------------------------------------------------------------------\n",
    "# Box around map scale, legends, colorbars\n",
    "# +g fill color\n",
    "# +p outline thickness and color\n",
    "# +r rounded edges\n",
    "box_standard = \"+gwhite@30+p0.8p,black+r\""
   ]
  },
  {
   "cell_type": "markdown",
   "id": "62aa4c88-0dbc-4254-9a7f-1bdcee8e5814",
   "metadata": {},
   "source": [
    "Set map projection and region of study area:\n",
    "- [Lambert Conic Conformal Projection](https://www.pygmt.org/v0.16.0/projections/conic/conic_lambert.html): **L**`lon0/lat0/lat1/lat2/width`"
   ]
  },
  {
   "cell_type": "code",
   "execution_count": null,
   "id": "1c6be0d0-0ead-4b5b-bb8c-acaa0907bd94",
   "metadata": {},
   "outputs": [],
   "source": [
    "# -----------------------------------------------------------------------------\n",
    "# Projection\n",
    "\n",
    "# Define projection center\n",
    "lon0_lamb = 7  # degrees East\n",
    "lat0_lamb = 48  # degrees North\n",
    "\n",
    "# Define standard parallels (only these two are distortion-free)\n",
    "lat1_lamb = 45  # degrees North\n",
    "lat2_lamb = 55\n",
    "\n",
    "# Define width of map\n",
    "width_lamb = \"15c\"  # 15 centimeters\n",
    "\n",
    "projection = f\"L{lon0_lamb}/{lat0_lamb}/{lat1_lamb}/{lat2_lamb}/{width_lamb}\"\n",
    "\n",
    "# -----------------------------------------------------------------------------\n",
    "# Region\n",
    "lonmin_lamb = -35  # degrees East\n",
    "lonmax_lamb = abs(lonmin_lamb) + 2 * lon0_lamb  # symmetric around lon0\n",
    "latmin_lamb = 25  # degrees North\n",
    "latmax_lamb = 70\n",
    "\n",
    "region = [lonmin_lamb, lonmax_lamb, latmin_lamb, latmax_lamb]"
   ]
  },
  {
   "cell_type": "markdown",
   "id": "c96d1ea6-2820-41c3-8ccc-5e89975cbdf1",
   "metadata": {},
   "source": [
    "Create a cyclic colormap using the [`pygmt.makecpt`](https://www.pygmt.org/v0.7.0/api/generated/pygmt.makecpt.html) function:\n",
    "* fast polarization direction: _cmocean_ colormaps - _phase_ ([Thuny et al. 2016](https://dx.doi.org/10.5670/oceanog.2016.66))"
   ]
  },
  {
   "cell_type": "code",
   "execution_count": null,
   "id": "4cc8f06e-a75a-42f6-94b0-a3f6f26986e3",
   "metadata": {},
   "outputs": [],
   "source": [
    "cmap_phi_out = \"phase_resampled_phi.cpt\"\n",
    "\n",
    "gmt.makecpt(\n",
    "    cmap=\"phase\",  # buld-in up on GMT 6.4.0\n",
    "    output=cmap_phi_out,\n",
    "    series=[-90, 90],  # min, max\n",
    "    cyclic=True,\n",
    ")\n",
    "\n",
    "cmap_phi = cmap_phi_out"
   ]
  },
  {
   "cell_type": "markdown",
   "id": "8af23289-b7d8-4501-99d8-6b3c0d9ae100",
   "metadata": {},
   "source": [
    "-----------------------------\n",
    "\n",
    "**(2) Create geographic map**\n",
    "\n",
    "-----------------------------\n",
    "\n",
    "Using the [`pygmt.Figure.show`](https://www.pygmt.org/v0.16.0/api/generated/pygmt.Figure.show.html) method you can let the figure be displayed directly inside your IDE (Integrated Development Environment) or outside of it by setting the `method` parameter to `\"external\"`.\n",
    "\n",
    "Create an instance or object of the [`pygmt.Figure`](https://www.pygmt.org/v0.16.0/api/generated/pygmt.Figure.html) class. In the following steps various plotting elements are added in a stacking fashion."
   ]
  },
  {
   "cell_type": "code",
   "execution_count": null,
   "id": "1cefde7f-07ec-4dcc-99ad-b0a53c7d7be0",
   "metadata": {},
   "outputs": [],
   "source": [
    "fig = gmt.Figure()\n",
    "gmt.config(MAP_GRID_PEN=\"0.01p,gray30\")"
   ]
  },
  {
   "cell_type": "markdown",
   "id": "ec2a4bf6-34b2-4deb-b4ba-db3f69558643",
   "metadata": {},
   "source": [
    "Generate a basic map using the [`pygmt.Figure.basemap`](https://www.pygmt.org/v0.16.0/api/generated/pygmt.Figure.basemap.html)  and [`pygmt.Figure.coast`](https://www.pygmt.org/v0.16.0/api/generated/pygmt.Figure.coast.html) methods."
   ]
  },
  {
   "cell_type": "code",
   "execution_count": null,
   "id": "1ec5f41f-acbc-4f40-876d-54dcccaf4ffd",
   "metadata": {},
   "outputs": [],
   "source": [
    "# a annotations, here every 10 degrees\n",
    "# g grid lines, here every 10 degrees\n",
    "# f frame or ticks, here every 5 degrees\n",
    "# WSne annotations at South and West boundaries\n",
    "frame = [\"a10g10f5\", \"WSne\"]\n",
    "\n",
    "fig.basemap(projection=projection, region=region, frame=0)\n",
    "fig.coast(\n",
    "    land=color_land,\n",
    "    resolution=\"h\",  # high\n",
    "    area_thresh=\"30000\",\n",
    "    shorelines=\"black\",\n",
    ")\n",
    "fig.basemap(frame=frame)\n",
    "\n",
    "fig.show(dpi=dpi_jn)"
   ]
  },
  {
   "cell_type": "markdown",
   "id": "882f6a82-9203-491f-9148-efb43e15169a",
   "metadata": {},
   "source": [
    "Plot the plate boundaries ([Bird 2003](https://doi.org/10.1029/2001GC000252)) using the [`pygmt.Figure.plot`](https://www.pygmt.org/v0.16.0/api/generated/pygmt.Figure.plot.html) method."
   ]
  },
  {
   "cell_type": "code",
   "execution_count": null,
   "id": "3927dcbe-8053-4e23-9305-ce11b7c4e10c",
   "metadata": {},
   "outputs": [],
   "source": [
    "fig.plot(data=file_platbound, pen=f\"0.8p,{color_platbound}\")\n",
    "\n",
    "fig.show(dpi=dpi_jn)"
   ]
  },
  {
   "cell_type": "markdown",
   "id": "3c1e5f2a-74b8-4523-82ff-a8e3de65bd1e",
   "metadata": {},
   "source": [
    "Plot the (projected) ray paths. The semi-transparency generates some kind of a ray density."
   ]
  },
  {
   "cell_type": "code",
   "execution_count": null,
   "id": "1372e423-6a4a-4a7e-b216-1b16d6379b33",
   "metadata": {},
   "outputs": [],
   "source": [
    "file_raypath_same = \"data_FigS4_left_swsm/BFO_rays_swsm_\"\n",
    "file_raypath_K_N = f\"{file_raypath_same}K_N_goodfair.txt\"\n",
    "file_raypath_K_NN = f\"{file_raypath_same}K_NN_goodfair.txt\"\n",
    "file_raypath_KK_N = f\"{file_raypath_same}KK_N_goodfair.txt\"\n",
    "file_raypath_KK_NN = f\"{file_raypath_same}KK_NN_goodfair.txt\"\n",
    "\n",
    "# null, SKS\n",
    "fig.plot(\n",
    "    data=file_raypath_K_N,\n",
    "    pen=f\"1p,{color_ray_K_N}{alpha_ray}\",\n",
    "    incols=incols_ray,  # order of input columns, zero-based indexing\n",
    ")\n",
    "# null, SKKS\n",
    "fig.plot(\n",
    "    data=file_raypath_KK_N,\n",
    "    pen=f\"1p,{color_ray_KK_N}{alpha_ray}\",\n",
    "    incols=incols_ray,\n",
    ")\n",
    "# spit, SKS\n",
    "fig.plot(\n",
    "    data=file_raypath_K_NN,\n",
    "    pen=f\"1p,{color_ray_K_NN}{alpha_ray}\",\n",
    "    incols=incols_ray,\n",
    ")\n",
    "# split, SKKS\n",
    "fig.plot(\n",
    "    data=file_raypath_KK_NN,\n",
    "    pen=f\"1p,{color_ray_KK_NN}{alpha_ray}\",\n",
    "    incols=incols_ray,\n",
    ")\n",
    "\n",
    "fig.show(dpi=dpi_jn)"
   ]
  },
  {
   "cell_type": "markdown",
   "id": "5eac5857-16d0-47ad-8018-c1e313aef248",
   "metadata": {},
   "source": [
    "Plot the piercing points in 2700 km depth (externally and previously calculated after the _iasp91_ Earth model ([Kennett & Engdahl 1991](https://doi.org/10.1111/j.1365-246X.1991.tb06724.x)))."
   ]
  },
  {
   "cell_type": "code",
   "execution_count": null,
   "id": "0f5f2e6d-9d70-4ec5-842e-9d7c8c48780d",
   "metadata": {},
   "outputs": [],
   "source": [
    "data_pp_same = \"data_FigS4_left_swsm/BFO_pp2700km_\"\n",
    "data_K_N_pp = f\"{data_pp_same}K_sp_N_goodfair.txt\"\n",
    "data_K_NN_pp = f\"{data_pp_same}K_sp_NN_goodfair.txt\"\n",
    "data_KK_N_pp = f\"{data_pp_same}KK_sp_N_goodfair.txt\"\n",
    "data_KK_NN_pp = f\"{data_pp_same}KK_sp_NN_goodfair.txt\"\n",
    "\n",
    "# null, SKS\n",
    "fig.plot(\n",
    "    data=data_K_N_pp,\n",
    "    style=f\"C{marker_size_pp}\",  # circle\n",
    "    fill=color_null,  # before PyGMT v0.8.0 \"color\"\n",
    "    pen=f\"{outline_width_pp},black\",  # outline thickness and color\n",
    ")\n",
    "# null, SKKS\n",
    "fig.plot(\n",
    "    data=data_KK_N_pp,\n",
    "    style=f\"S{marker_size_pp}\",  # square\n",
    "    fill=color_null,  # before PyGMT v0.8.0 \"color\"\n",
    "    pen=f\"{outline_width_pp},black\",\n",
    ")\n",
    "# split, SKS\n",
    "fig.plot(\n",
    "    data=data_K_NN_pp,\n",
    "    style=f\"C{marker_size_pp}\",\n",
    "    cmap=cmap_phi,  # color map\n",
    "    pen=f\"{outline_width_pp},black\",\n",
    ")\n",
    "# split, SKKS\n",
    "fig.plot(\n",
    "    data=data_KK_NN_pp,\n",
    "    style=f\"S{marker_size_pp}\",\n",
    "    cmap=cmap_phi,\n",
    "    pen=f\"{outline_width_pp},black\",\n",
    ")\n",
    "\n",
    "fig.show(dpi=dpi_jn)"
   ]
  },
  {
   "cell_type": "markdown",
   "id": "04eeb47a-9c01-4b68-80b3-b391188f0609",
   "metadata": {},
   "source": [
    "Add symbol and station code of recording station BFO as well as depth of piercing points using the [`pygmt.Figure.plot`](https://www.pygmt.org/v0.16.0/api/generated/pygmt.Figure.plot.html) and [`pygmt.Figure.text`](https://www.pygmt.org/v0.16.0/api/generated/pygmt.Figure.text.html) methods."
   ]
  },
  {
   "cell_type": "code",
   "execution_count": null,
   "id": "a74f210d-966b-47c1-8190-effd09386d55",
   "metadata": {},
   "outputs": [],
   "source": [
    "# -----------------------------------------------------------------------------\n",
    "# Recording station BFO\n",
    "\n",
    "# Add symbol\n",
    "fig.plot(\n",
    "    x=lon_BFO,\n",
    "    y=lat_BFO,\n",
    "    style=\"i0.3c\",  # inverse triangle\n",
    "    fill=color_station_symbol,  # before PyGMT v0.8.0 \"color\"\n",
    "    pen=\"1p,black\",\n",
    ")\n",
    "\n",
    "# Add station code\n",
    "fig.text(\n",
    "    x=lon_BFO,\n",
    "    y=49.020,\n",
    "    text=\"BFO\",\n",
    "    font=f\"{myfontsize},Helvetica-Bold,{color_station_label}\",\n",
    "    offset=\"0c/0.3c\",  # x/y\n",
    "    fill=\"white@30\",\n",
    "    clearance=\"+tO\",  # rounded edges of box\n",
    ")\n",
    "\n",
    "# -----------------------------------------------------------------------------\n",
    "# Add depth of piercing points\n",
    "fig.text(\n",
    "    position=\"TC\",  # Top Center\n",
    "    text=\"@@2700 km\",  # @@ outputs @ sign in GMT\n",
    "    font=f\"{myfontsize},Helvetica-Bold,{color_station_label}\",\n",
    "    fill=\"white@30\",\n",
    ")\n",
    "\n",
    "fig.show(dpi=dpi_jn)"
   ]
  },
  {
   "cell_type": "markdown",
   "id": "a8f94bc8-3dba-4f41-b19f-a98031eeb3b1",
   "metadata": {},
   "source": [
    "Add a colorbar for the colormap _phase_ used for the fast polarization direction using the [`pygmt.Figure.colorbar`](https://www.pygmt.org/v0.16.0/api/generated/pygmt.Figure.colorbar.html) method."
   ]
  },
  {
   "cell_type": "code",
   "execution_count": null,
   "id": "cc7b8626-8492-41c7-b485-880d1acead7c",
   "metadata": {},
   "outputs": [],
   "source": [
    "# a annotations, here every 30 degrees\n",
    "# f frame or ticks, here every 15 degrees\n",
    "# +l label\n",
    "#   @~f@~  greek letter phi\n",
    "#   @-a@-  subscript\n",
    "#   @.     degree sign\n",
    "colorbar_phi_frame = \"a30f15+l@~f@~@-a@- / N@.E\"\n",
    "\n",
    "# J position, here Right Top\n",
    "# +j justify, here Right Top\n",
    "# +w width/height, here in centimeters\n",
    "# +o offset x/y, here in centimeters\n",
    "# +h horizontal\n",
    "# +ml label on top of colorbar\n",
    "colorbar_phi_pos = \"JRT+jRT+w3.5c/0.25c+o0.3c/0c+h+ml\"\n",
    "\n",
    "with gmt.config(MAP_TICK_LENGTH_PRIMARY=\"2p\", FONT=\"8p\"):\n",
    "    fig.colorbar(cmap=cmap_phi, position=colorbar_phi_pos, frame=colorbar_phi_frame)\n",
    "\n",
    "fig.show(dpi=dpi_jn)"
   ]
  },
  {
   "cell_type": "markdown",
   "id": "615f168d-80cb-4768-ab16-f90317a0659e",
   "metadata": {},
   "source": [
    "Add legend for symbols of piercing points using the [`pygmt.Figure.legend`](https://www.pygmt.org/v0.16.0/api/generated/pygmt.Figure.legend.html) method."
   ]
  },
  {
   "cell_type": "code",
   "execution_count": null,
   "id": "02af4f20-311f-4af7-aeec-a9566eb3c7ce",
   "metadata": {},
   "outputs": [],
   "source": [
    "leg_file = \"legend_gmt_swsm.txt\"\n",
    "\n",
    "# J position, here Right Top\n",
    "# +j justify, here Left Top\n",
    "# +w width, here in centimeters\n",
    "# +o offset x/y, here in centimeters\n",
    "legend_pos = \"JRT+jLT+w2.1c+o-2.3c/1.2c\"\n",
    "\n",
    "fig.legend(spec=leg_file, position=legend_pos, box=box_standard)\n",
    "\n",
    "fig.show(dpi=dpi_jn)\n",
    "\n",
    "# Remove colormap file\n",
    "os.remove(\"phase_resampled_phi.cpt\")"
   ]
  },
  {
   "cell_type": "markdown",
   "id": "030fb1e0-2a21-4153-a2f9-1474649cc9d6",
   "metadata": {},
   "source": [
    "Using the [`pygmt.Figure.savefig`](https://www.pygmt.org/v0.7.0/api/generated/pygmt.Figure.savefig.html) method you can save the final figure. Indicate the desired file format by adding the corresponding extension to the file name passed through the `fname` parameter. For PNG format you may also set the resolution via the `dpi` parameter."
   ]
  },
  {
   "cell_type": "code",
   "execution_count": null,
   "id": "7e3711f0-d67b-43f2-b744-1a8aa867f0c7",
   "metadata": {},
   "outputs": [],
   "source": [
    "# Uncomment to save the figure in PNG, PDF, or EPS format\n",
    "# for ext in [\"png\"]: #, \"pdf\", \"eps\"]:\n",
    "#    fig.savefig(fname=f\"{fname_fig_out}.{ext}\", dpi=dpi_png)\n",
    "\n",
    "print(fname_fig_out)"
   ]
  }
 ],
 "metadata": {
  "kernelspec": {
   "display_name": "Python 3 (ipykernel)",
   "language": "python",
   "name": "python3"
  },
  "language_info": {
   "codemirror_mode": {
    "name": "ipython",
    "version": 3
   },
   "file_extension": ".py",
   "mimetype": "text/x-python",
   "name": "python",
   "nbconvert_exporter": "python",
   "pygments_lexer": "ipython3",
   "version": "3.12.3"
  }
 },
 "nbformat": 4,
 "nbformat_minor": 5
}
