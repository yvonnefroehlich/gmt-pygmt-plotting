{
 "cells": [
  {
   "cell_type": "markdown",
   "id": "ea181d51-95d0-452e-b916-9ef9ce34a2e3",
   "metadata": {},
   "source": [
    "### Fröhlich et al. (2024), GJI: **Fig. 1** - Map of the Upper Rhine Graben area\n",
    "\n",
    "-----------------------------------------------------------------------\n",
    "> This Jupyter notebook (supported by [JupyterLab](https://jupyter.org/)) reproduces **Fig. 1** of [**_Fröhlich Y., Grund M., Ritter J. R. R. (2024)_**](https://doi.org/10.1093/gji/ggae245). Lateral and vertical variations of seismic anisotropy in the lithosphere-asthenosphere system underneath Central Europe from long-term splitting measurements. _Geophysical Journal International_, 239(1), 112-135. https://doi.org/10.1093/gji/ggae245.\n",
    "\n",
    "- **Author**: Yvonne Fröhlich\n",
    "  * ORCID: https://orcid.org/0000-0002-8566-0619\n",
    "  * GitHub: https://github.com/yvonnefroehlich/gmt-pygmt-plotting\n",
    "- **History**:\n",
    "  * Created 2024/August-September: [**PyGMT**](https://www.pygmt.org/latest/) [v0.12.0](https://www.pygmt.org/v0.12.0/) + [**GMT**](https://www.generic-mapping-tools.org/) [6.4.0](https://docs.generic-mapping-tools.org/6.4/)\n",
    "  * Updated 2025/01/19: [**PyGMT**](https://www.pygmt.org/latest/) [v0.14.0](https://www.pygmt.org/v0.14.0/) + [**GMT**](https://www.generic-mapping-tools.org/) [6.5.0](https://docs.generic-mapping-tools.org/6.5/)\n",
    "- **See also**:\n",
    "  * [Fig. 9](https://github.com/yvonnefroehlich/gmt-pygmt-plotting/blob/main/002_paper_FGR_2024/Figure_9/FGR_Fig9_pp.ipynb): Piercing points in the upper mantle\n",
    "  * [Fig. S1](https://github.com/yvonnefroehlich/gmt-pygmt-plotting/blob/main/002_paper_FGR_2024/Figure_S1/FGR_FigS1_epidist.ipynb): Earthquake distribution as epicentral-distance plot\n",
    "  * [Fig. S9](https://github.com/yvonnefroehlich/gmt-pygmt-plotting/tree/main/002_paper_FGR_2024/Figure_S9): Travel paths of *X*KS phases\n",
    "  * [Fig. S22](https://github.com/yvonnefroehlich/gmt-pygmt-plotting/blob/main/002_paper_FGR_2024/Figure_S22/FGR_FigS22_lmm.ipynb): Piercing points in the lowermost mantle\n",
    "\n",
    "For bug reports, suggestions, or recommendation please open an issue or submit a pull request directly on [GitHub](https://github.com/yvonnefroehlich/gmt-pygmt-plotting).\n",
    "\n",
    "-----------------------------------------------------------------------"
   ]
  },
  {
   "cell_type": "markdown",
   "id": "4164742d-5995-46b4-93d8-ad90c983a27f",
   "metadata": {},
   "source": [
    "Import the packages used in this Jupyter notebook."
   ]
  },
  {
   "cell_type": "code",
   "execution_count": 1,
   "id": "f2f6ab39-d49c-4f2b-91dc-fe59c9ed33a4",
   "metadata": {},
   "outputs": [],
   "source": [
    "import glob\n",
    "import os\n",
    "\n",
    "import numpy as np\n",
    "import pandas as pd\n",
    "import pygmt as gmt"
   ]
  },
  {
   "cell_type": "markdown",
   "id": "c05cec69-587e-49af-94b9-fd2b393a2f5d",
   "metadata": {},
   "source": [
    "---------------\n",
    "\n",
    "**(1) Set up**\n",
    "\n",
    "---------------"
   ]
  },
  {
   "cell_type": "code",
   "execution_count": 2,
   "id": "6d5ec0ec-3930-4620-97a5-7a8cbbbee0ae",
   "metadata": {},
   "outputs": [],
   "source": [
    "# General stuff\n",
    "dpi_png = 360  # Resolution in dpi of output figure for PNG format\n",
    "dpi_jn = 100  # Resolution in dpi for display in this Jupyter notebook\n",
    "fig_out = \"FGR_Fig1_urg\"  # Name of output figure\n"
   ]
  },
  {
   "cell_type": "markdown",
   "id": "e131811c-2b14-4611-bd4e-7b8e1f32d9b0",
   "metadata": {},
   "source": [
    "---------------\n",
    "\n",
    "**(2) Make map**\n",
    "\n",
    "---------------"
   ]
  },
  {
   "cell_type": "code",
   "execution_count": null,
   "id": "94c19aef-e965-4895-b3c9-9e7ce687ea5c",
   "metadata": {},
   "outputs": [],
   "source": []
  },
  {
   "cell_type": "code",
   "execution_count": 3,
   "id": "d992dda0-1bd9-459f-99a7-1d17f3f87849",
   "metadata": {},
   "outputs": [
    {
     "name": "stdout",
     "output_type": "stream",
     "text": [
      "FGR_Fig1_urg\n"
     ]
    }
   ],
   "source": [
    "print(fig_out)"
   ]
  },
  {
   "cell_type": "markdown",
   "id": "4ac6e74b-7069-407d-ba07-1c0fc02b5e87",
   "metadata": {},
   "source": [
    "---------------\n",
    "\n",
    "**(3) References**\n",
    "\n",
    "---------------"
   ]
  },
  {
   "cell_type": "code",
   "execution_count": null,
   "id": "09b7e888-0ecb-4496-816c-3ef8f830d87a",
   "metadata": {},
   "outputs": [],
   "source": []
  }
 ],
 "metadata": {
  "kernelspec": {
   "display_name": "Python 3 (ipykernel)",
   "language": "python",
   "name": "python3"
  },
  "language_info": {
   "codemirror_mode": {
    "name": "ipython",
    "version": 3
   },
   "file_extension": ".py",
   "mimetype": "text/x-python",
   "name": "python",
   "nbconvert_exporter": "python",
   "pygments_lexer": "ipython3",
   "version": "3.12.3"
  }
 },
 "nbformat": 4,
 "nbformat_minor": 5
}
