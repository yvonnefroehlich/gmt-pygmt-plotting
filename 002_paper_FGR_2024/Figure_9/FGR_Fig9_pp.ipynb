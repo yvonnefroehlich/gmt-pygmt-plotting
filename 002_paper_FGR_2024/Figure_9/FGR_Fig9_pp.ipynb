{
 "cells": [
  {
   "cell_type": "markdown",
   "id": "ea181d51-95d0-452e-b916-9ef9ce34a2e3",
   "metadata": {},
   "source": [
    "### Fröhlich et al. (2024), GJI: **Fig. 9** - Piercing points upper mantle\n",
    "\n",
    "-----------------------------------------------------------------------\n",
    "> This Jupyter notebook (supported by [JupyterLab](https://jupyter.org/)) reproduces **Fig. 9** of [**_Fröhlich, Y., Grund, M., Ritter, J. R. R. (2024)_**](https://doi.org/10.1093/gji/ggae245). _Geophysical Journal International_. https://doi.org/10.1093/gji/ggae245.\n",
    ">\n",
    "> \n",
    "> - Author: Yvonne Fröhlich\n",
    ">   * ORCID: https://orcid.org/0000-0002-8566-0619\n",
    ">   * GitHub: https://github.com/yvonnefroehlich/gmt-pygmt-plotting\n",
    "> - Hisotry:\n",
    ">   * Created: 2024/XX/XX\n",
    ">\n",
    "> For bug reports, suggestions, or recommendation please open an issue or submit a pull request directly on [GitHub](https://github.com/yvonnefroehlich/gmt-pygmt-plotting).\n",
    "-----------------------------------------------------------------------"
   ]
  },
  {
   "cell_type": "markdown",
   "id": "4164742d-5995-46b4-93d8-ad90c983a27f",
   "metadata": {},
   "source": [
    "Import required packages which must be installed on your system to run this Jupyter notebook:\n",
    "* [_**PyGMT**_](https://www.pygmt.org/latest/) release [v0.12.0](https://www.pygmt.org/v0.12.0/) + [_**GMT**_](https://www.generic-mapping-tools.org/) release [6.4.0](https://docs.generic-mapping-tools.org/6.4/)\n",
    "* [_**NumPy**_](https://numpy.org/https://numpy.org/)\n",
    "* [_**Pandas**_](https://pandas.pydata.org/docs/)"
   ]
  },
  {
   "cell_type": "code",
   "execution_count": 1,
   "id": "f2f6ab39-d49c-4f2b-91dc-fe59c9ed33a4",
   "metadata": {},
   "outputs": [],
   "source": [
    "import glob\n",
    "import os\n",
    "\n",
    "import numpy as np\n",
    "import pandas as pd\n",
    "import pygmt as gmt"
   ]
  },
  {
   "cell_type": "markdown",
   "id": "c2d6f58c-9795-47f9-a91f-12229059b709",
   "metadata": {},
   "source": [
    "---------------\n",
    "\n",
    "**(1) Set up**\n",
    "\n",
    "---------------"
   ]
  },
  {
   "cell_type": "code",
   "execution_count": null,
   "id": "ade34a1b-fd1e-4078-b4ae-784ebb10d47d",
   "metadata": {},
   "outputs": [],
   "source": [
    "# Resolutions\n",
    "grid_dpi = 360  # Input grid\n",
    "png_dpi = 360  # Output PNG\n",
    "jn_dpi = 100  # Display in this Jupyter notebook\n",
    "\n",
    "# Name of output figure\n",
    "map_name = \"02_out_maps/FGR_2024_GJI_Fig9_pp\""
   ]
  },
  {
   "cell_type": "markdown",
   "id": "5ea2bb15-8b76-4ee5-a5b0-3f120ad20c7e",
   "metadata": {},
   "source": [
    "---------------\n",
    "\n",
    "**(2) Make map**\n",
    "\n",
    "---------------"
   ]
  },
  {
   "cell_type": "code",
   "execution_count": null,
   "id": "7fbb0995-1141-4f5d-bf69-0c7da38edfcd",
   "metadata": {},
   "outputs": [],
   "source": []
  }
 ],
 "metadata": {
  "kernelspec": {
   "display_name": "Python 3 (ipykernel)",
   "language": "python",
   "name": "python3"
  },
  "language_info": {
   "codemirror_mode": {
    "name": "ipython",
    "version": 3
   },
   "file_extension": ".py",
   "mimetype": "text/x-python",
   "name": "python",
   "nbconvert_exporter": "python",
   "pygments_lexer": "ipython3",
   "version": "3.12.3"
  }
 },
 "nbformat": 4,
 "nbformat_minor": 5
}
