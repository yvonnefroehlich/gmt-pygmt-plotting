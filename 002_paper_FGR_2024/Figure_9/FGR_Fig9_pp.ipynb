{
 "cells": [
  {
   "cell_type": "markdown",
   "id": "ea181d51-95d0-452e-b916-9ef9ce34a2e3",
   "metadata": {},
   "source": [
    "### Fröhlich et al. (2024), GJI: **Fig. 9** - Piercing points in the upper mantle\n",
    "\n",
    "-----------------------------------------------------------------------\n",
    "> This Jupyter notebook (supported by [JupyterLab](https://jupyter.org/)) reproduces **Fig. 9** of [**_Fröhlich, Y., Grund, M., Ritter, J. R. R. (2024)_**](https://doi.org/10.1093/gji/ggae245). _Geophysical Journal International_, 239(1), 112-135. https://doi.org/10.1093/gji/ggae245.\n",
    "\n",
    "- **Author**: Yvonne Fröhlich\n",
    "  * ORCID: https://orcid.org/0000-0002-8566-0619\n",
    "  * GitHub: https://github.com/yvonnefroehlich/gmt-pygmt-plotting\n",
    "- **History**:\n",
    "  * Created 2024/August-September: [**PyGMT**](https://www.pygmt.org/latest/) [v0.12.0](https://www.pygmt.org/v0.12.0/) + [**GMT**](https://www.generic-mapping-tools.org/) [6.4.0](https://docs.generic-mapping-tools.org/6.4/)\n",
    "- **See also**:\n",
    "  * [Fig. 1](https://github.com/yvonnefroehlich/gmt-pygmt-plotting/blob/main/002_paper_FGR_2024/Figure_1/FGR_Fig1_urg.ipynb): Map of the Upper Rhine Graben area\n",
    "  * [Fig. S1](https://github.com/yvonnefroehlich/gmt-pygmt-plotting/blob/main/002_paper_FGR_2024/Figure_S1/FGR_FigS1_epidist.ipynb): Earthquake distribution as epicentral-distance plot\n",
    "  * [Fig. S9](https://github.com/yvonnefroehlich/gmt-pygmt-plotting/tree/main/002_paper_FGR_2024/Figure_S9): Travel paths of *X*KS phases\n",
    "  * [Fig. S22](https://github.com/yvonnefroehlich/gmt-pygmt-plotting/blob/main/002_paper_FGR_2024/Figure_S22/FGR_FigS22_lmm.ipynb): Piercing points in the lowermost mantle\n",
    "\n",
    "For bug reports, suggestions, or recommendation please open an issue or submit a pull request directly on [GitHub](https://github.com/yvonnefroehlich/gmt-pygmt-plotting).\n",
    "\n",
    "-----------------------------------------------------------------------"
   ]
  },
  {
   "cell_type": "markdown",
   "id": "4164742d-5995-46b4-93d8-ad90c983a27f",
   "metadata": {},
   "source": [
    "Import the packages used in this Jupyter notebook."
   ]
  },
  {
   "cell_type": "code",
   "execution_count": 1,
   "id": "f2f6ab39-d49c-4f2b-91dc-fe59c9ed33a4",
   "metadata": {},
   "outputs": [],
   "source": [
    "import glob\n",
    "import os\n",
    "\n",
    "import numpy as np\n",
    "import pandas as pd\n",
    "import pygmt as gmt"
   ]
  },
  {
   "cell_type": "markdown",
   "id": "c2d6f58c-9795-47f9-a91f-12229059b709",
   "metadata": {},
   "source": [
    "---------------\n",
    "\n",
    "**(1) Set up**\n",
    "\n",
    "---------------"
   ]
  },
  {
   "cell_type": "code",
   "execution_count": 2,
   "id": "ade34a1b-fd1e-4078-b4ae-784ebb10d47d",
   "metadata": {},
   "outputs": [],
   "source": [
    "# General stuff\n",
    "dpi_png = 360  # Resolution in dpi of output figure for PNG format\n",
    "dpi_jn = 100  # Resolution in dpi for display in this Jupyter notebook\n",
    "fig_out = \"FGR_Fig9_pp\"  # Name of output figure\n"
   ]
  },
  {
   "cell_type": "markdown",
   "id": "5ea2bb15-8b76-4ee5-a5b0-3f120ad20c7e",
   "metadata": {},
   "source": [
    "---------------\n",
    "\n",
    "**(2) Make map**\n",
    "\n",
    "---------------"
   ]
  },
  {
   "cell_type": "code",
   "execution_count": null,
   "id": "7fbb0995-1141-4f5d-bf69-0c7da38edfcd",
   "metadata": {},
   "outputs": [],
   "source": []
  },
  {
   "cell_type": "code",
   "execution_count": 3,
   "id": "ff3ee180-23a2-48e9-8c72-dab7b23a00fb",
   "metadata": {},
   "outputs": [
    {
     "name": "stdout",
     "output_type": "stream",
     "text": [
      "FGR_Fig9_pp\n"
     ]
    }
   ],
   "source": [
    "print(fig_out)"
   ]
  },
  {
   "cell_type": "markdown",
   "id": "b4e9d082-fc96-4cb3-8eb1-11a45828760b",
   "metadata": {},
   "source": [
    "---------------\n",
    "\n",
    "**(3) References**\n",
    "\n",
    "---------------"
   ]
  }
 ],
 "metadata": {
  "kernelspec": {
   "display_name": "Python 3 (ipykernel)",
   "language": "python",
   "name": "python3"
  },
  "language_info": {
   "codemirror_mode": {
    "name": "ipython",
    "version": 3
   },
   "file_extension": ".py",
   "mimetype": "text/x-python",
   "name": "python",
   "nbconvert_exporter": "python",
   "pygments_lexer": "ipython3",
   "version": "3.12.3"
  }
 },
 "nbformat": 4,
 "nbformat_minor": 5
}
